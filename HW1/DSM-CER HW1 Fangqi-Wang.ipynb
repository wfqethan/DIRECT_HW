{
 "cells": [
  {
   "cell_type": "markdown",
   "metadata": {},
   "source": [
    "### HW Assignment 1 for DSM-CER\n",
    "\n",
    "* Due date, submitted to your GitHub account by Thur Jan 12, 2017 at 5 pm PST \n",
    "* Overview: This HW assignment is primarily designed to introduce you to some aspects of Data Science and clean energy research.  A secondary goal of the HW assignment is to get practice with git, GitHub classroom and related tools you will be using in Professor Beck's class. \n",
    "* Instructions: \n",
    "    * Check out this python notebook (DSM-CER HW1 skel) from GitHub classroom (if you are reading this, you probably did it). If you had a friend give you the python notebook, stop now and figure out how to get the correct starter code from GitHub classroom.\n",
    "        * Rename the notebook as: \"DSM-CER HW1 _lastname_-_firstname_\"\n",
    "    * Do the assigned reading for DSM-CER (The Data Science review article by Beck et al.).  If you have any lingering questions, enter them in the appropriate cell below, in markdown format and colored in <font color='red'>_red text_</font>\n",
    "    * Find a research paper related to your own research area, or a research area of interest that is at the intersection of materials/chemicals science/engineering and Data Science. In the appropriate cell below, add the correct <a href=\"http://google.com\" target=\"_blank\">link to the paper</a> so that we can find it. \n",
    "        * If you cannot find a paper you want to read you can look for papers related to Materials Genome Initative, The Materials Project, Harvard Clean Energy Project, The Open Quantum Materials Database, or references from Part 1.  \n",
    "            * _If you still can't find a paper, talk to us on Slack or come to office hours_\n",
    "                * **_If you still can't find a paper, I am out of suggestions_**\n",
    "    * Write a brief (200 words or fewer) summary of the paper, making sure to note the methods that were used as well as how the authors addressed one or more data-related challenges \n",
    "    * Turn in the completed python notebook using GitHub classroom"
   ]
  },
  {
   "cell_type": "markdown",
   "metadata": {},
   "source": [
    "****\n",
    "### Part 1 \n",
    "\n",
    "Any questions from the reading? <br/>\n",
    "<ul style=\"color:red\">\n",
    "\t<li>What's neural network and how does it relate to machine learning?</li>\n",
    "    <li>How do we select supervised/unsupervised machine learning choices for different applications?</li>\n",
    "    <li>What percentages of confidence do we need in order to validify a model?</li>\n",
    "</ul>\n"
   ]
  },
  {
   "cell_type": "markdown",
   "metadata": {},
   "source": [
    "****\n",
    "### Part 2 \n",
    "\n",
    "Provide the full details of the paper you found here. Use markdown to format it smartly and provide the link as requested<br/>\n",
    "\n",
    "**The following paper was reviewed:**\n",
    "> <a href=\"http://www.sciencedirect.com/science/article/pii/S0166361515300543\" style=\"text-align:left\"> *Mohapatra, Subrajeet. \"Machine learning approach for automated coal characterization using scanned electron microscopic images.\" Computers in Industry 75 (2016): 35-45.*</a>\n",
    "\n"
   ]
  },
  {
   "cell_type": "markdown",
   "metadata": {},
   "source": [
    "****\n",
    "### Part 3 \n",
    "\n",
    "Provide your brief summary here in markdown format. Please make every effort that it is free from typos and grammatical mistakes. Excessive typos or basic grammatical mistakes (i.e., that interfere with readability) will be marked down (no pun) 15%.  There are Jupyter plug-ins that can do spell-check, but if you are concerned it might be faster to just copy-paste your summary and then format it correctly.\n",
    "\n",
    "<p>\n",
    "The main goal of this paper was to improve the characterization of different grades of coal samples with automated analysis approach through analyzing the textural and color features of scanning electron microscopic image of coal samples. To begin with, SEM images of various grade of coal were captured, selective filtering and contrast enhancement was performed to reduce noise. Desired regions of interest were randomly selected using bounding box method. Color and texture features of coal samples were extracted through gray level co-occurrence matrix (GLCM), Fourier transform and Wavelet transform. Among 37 extracted features, 26 features were selected based on ANOVA method. In addition, standard neural network classifiers were utilized in pattern recognition such as: Multilayer Perception, Radial Basis Function Neural Network, Probabilistic Neural Network, K-Nearest Neighbor and Support Vector Machines. Due to the limited dataset, the technique of k-fold cross validation of resampling was applied for the classifiers. In the end, the aforementioned analysis achieved overall accuracy of 95.99 and the same coal samples were examined through traditional techniques to verify the results.\n",
    "</p>\n"
   ]
  },
  {
   "cell_type": "code",
   "execution_count": null,
   "metadata": {
    "collapsed": true
   },
   "outputs": [],
   "source": []
  },
  {
   "cell_type": "code",
   "execution_count": null,
   "metadata": {
    "collapsed": true
   },
   "outputs": [],
   "source": []
  }
 ],
 "metadata": {
  "anaconda-cloud": {},
  "kernelspec": {
   "display_name": "Python [default]",
   "language": "python",
   "name": "python3"
  },
  "language_info": {
   "codemirror_mode": {
    "name": "ipython",
    "version": 3
   },
   "file_extension": ".py",
   "mimetype": "text/x-python",
   "name": "python",
   "nbconvert_exporter": "python",
   "pygments_lexer": "ipython3",
   "version": "3.5.2"
  }
 },
 "nbformat": 4,
 "nbformat_minor": 1
}
